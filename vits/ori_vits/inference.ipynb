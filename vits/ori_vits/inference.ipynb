{
 "cells": [
  {
   "cell_type": "code",
   "execution_count": null,
   "metadata": {},
   "outputs": [],
   "source": [
    "%matplotlib inline\n",
    "import matplotlib.pyplot as plt\n",
    "import IPython.display as ipd\n",
    "\n",
    "import os\n",
    "import json\n",
    "import math\n",
    "import torch\n",
    "from torch import nn\n",
    "from torch.nn import functional as F\n",
    "from torch.utils.data import DataLoader\n",
    "\n",
    "import commons\n",
    "import utils\n",
    "from data_utils import TextAudioLoader, TextAudioCollate, TextAudioSpeakerLoader, TextAudioSpeakerCollate\n",
    "from models import SynthesizerTrn\n",
    "from text.symbols import symbols\n",
    "from text import text_to_sequence\n",
    "\n",
    "from scipy.io.wavfile import write\n",
    "\n",
    "\n",
    "def get_text(text, hps):\n",
    "    text_norm = text_to_sequence(text, hps.data.text_cleaners)\n",
    "    if hps.data.add_blank:\n",
    "        text_norm = commons.intersperse(text_norm, 0)\n",
    "    text_norm = torch.LongTensor(text_norm)\n",
    "    return text_norm"
   ]
  },
  {
   "attachments": {},
   "cell_type": "markdown",
   "metadata": {},
   "source": [
    "## LJ Speech"
   ]
  },
  {
   "cell_type": "code",
   "execution_count": null,
   "metadata": {},
   "outputs": [],
   "source": [
    "hps = utils.get_hparams_from_file(\"/data/vitsGPT/vits/configs/ljs_sem_pca.json\")"
   ]
  },
  {
   "cell_type": "code",
   "execution_count": null,
   "metadata": {},
   "outputs": [],
   "source": [
    "net_g = SynthesizerTrn(\n",
    "    len(symbols),\n",
    "    hps.data.filter_length // 2 + 1,\n",
    "    hps.train.segment_size // hps.data.hop_length,\n",
    "    **hps.model).cuda()\n",
    "_ = net_g.eval()\n",
    "\n",
    "_ = utils.load_checkpoint(\"/data/vitsGPT/vits/ori_vits/logs/ljs_base/G_100000.pth\", net_g, None)"
   ]
  },
  {
   "cell_type": "code",
   "execution_count": null,
   "metadata": {},
   "outputs": [],
   "source": [
    "# s = get_text(\"The room erupted in jubilant cheers as the final whistle blew, marking their team's unexpected victory.\", hps) # Joy/Happiness\n",
    "# s = get_text(\"A pang of envy struck her as she watched her peers celebrate their accomplishments, wondering when her moment would come.\", hps) # Envy/Jealousy\n",
    "# s = get_text(\"The weight of remorse was almost unbearable as he realized the pain his thoughtless words had inflicted.\", hps) # Remorse/Guilt\n",
    "# s = get_text(\"She felt a sudden surge of hope, like a ray of sunlight piercing through a stormy sky, when she received the uplifting news.\", hps) # Hope/Optimism\n",
    "s = get_text(\"Suspicion clouded his judgment, every gesture and word from his friend now seeming like a potential deceit.\", hps) # Suspicion/Distrust\n",
    "# 強くて直接的な感情\n",
    "# s = get_text(\"I am furious with you.\", hps) # 怒り\n",
    "# s = get_text(\"I feel so joyful right now.\", hps) # 喜び\n",
    "# s = get_text(\"I am completely devastated.\", hps) # 絶望\n",
    "# s = get_text(\"I am overwhelmed with gratitude.\", hps) # 感謝 \n",
    "# s = get_text(\"I'm terrified of losing you.\", hps) # 恐怖\n",
    "# s = get_text(\"I'm terrified of going to school.\", hps) # 恐怖\n",
    "# s = get_text(\"I'm terrified of going out.\", hps) # 恐怖\n",
    "# 強いが直接的でない感情\n",
    "# s = get_text(\"The storm inside me rages quietly.\", hps) # 内部の葛藤 \n",
    "# s = get_text(\"My heart sings a tune only I can hear.\", hps) # 個人的な喜び\n",
    "# s = get_text(\"Behind my laughter, there's a pain you'll never understand.\", hps) # 隠れた痛み\n",
    "# s = get_text(\"The weight of the world feels light today, but only because I've become accustomed to its heaviness.\", hps) # 諦め\n",
    "# s = get_text(\"The sun shines, but not for me.\", hps) # 哀愁\n",
    "# むしろ複雑な感情\n",
    "# s = get_text(\"The nostalgia of our memories brings both a smile to my face and a sting to my heart.\", hps) # 懐かしさ、喜び、悲しみ\n",
    "# s = get_text(\"I'm caught between the relief of the end and the grief of letting go.\", hps) # 安堵と悲しみ\n",
    "# s = get_text(\"The joy of your presence is tainted with the fear of your inevitable absence.\", hps) # 喜びと予期の悲しみ/恐怖\n",
    "# s = get_text(\"I find solace in chaos, for it reminds me of a time when life was unpredictable.\", hps) # 快適と憧れ\n",
    "# s = get_text(\"Your words are a bittersweet symphony; they lift me up and tear me down simultaneously.\", hps) # 両義性\n",
    "# 小説\n",
    "# s = get_text(\"In a sunny backyard, a playful puppy chased its tail, delighting in the warmth and freedom. But as it wandered off, it found itself on a busy, loud street, filled with confusion and fear. Lost and tired, it sat down, feeling defeated. Just then, a child spotted the puppy, offering it a comforting pat and guiding it back home. By evening, the puppy, once lost, was now snuggled safe and sound, realizing the world was big, but there were always kind souls to help.\", hps)\n",
    "# 対話\n",
    "# s = get_text(\"I landed the job in New York!; That's... great. But what about us?; I've been torn. We built so much here, but this is my dream.; Eyes moistening, I want to be happy for you, but it hurts.; Taking hands, I wish there was a way to have both.; Maybe there is. What if I came with you?; Surprised, Really?; For us, I'd brave the big city.; Tearing up, Together, then. Always.\", hps)\n",
    "\n",
    "# 文脈\n",
    "# 句読点\n",
    "\n",
    "\n",
    "with torch.no_grad():\n",
    "    x_tst = s.cuda().unsqueeze(0)\n",
    "    x_tst_lengths = torch.LongTensor([s.size(0)]).cuda()\n",
    "    print(x_tst.shape)\n",
    "    print(x_tst_lengths)\n",
    "    audio = net_g.infer(x_tst, x_tst_lengths, noise_scale=.667, noise_scale_w=0.8, length_scale=1)[0][0,0].data.cpu().float().numpy()\n",
    "ipd.display(ipd.Audio(audio, rate=hps.data.sampling_rate, normalize=False))\n",
    "\n",
    "write(\"output_base.wav\", hps.data.sampling_rate, audio)"
   ]
  }
 ],
 "metadata": {
  "kernelspec": {
   "display_name": "Python 3",
   "language": "python",
   "name": "python3"
  },
  "language_info": {
   "codemirror_mode": {
    "name": "ipython",
    "version": 3
   },
   "file_extension": ".py",
   "mimetype": "text/x-python",
   "name": "python",
   "nbconvert_exporter": "python",
   "pygments_lexer": "ipython3",
   "version": "3.10.12"
  }
 },
 "nbformat": 4,
 "nbformat_minor": 4
}
